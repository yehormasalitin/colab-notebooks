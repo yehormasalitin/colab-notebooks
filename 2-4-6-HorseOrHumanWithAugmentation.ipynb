{
  "cells": [
    {
      "cell_type": "markdown",
      "metadata": {
        "id": "view-in-github",
        "colab_type": "text"
      },
      "source": [
        "<a href=\"https://colab.research.google.com/github/yehormasalitin/colab-notebooks/blob/main/2-4-6-HorseOrHumanWithAugmentation.ipynb\" target=\"_parent\"><img src=\"https://colab.research.google.com/assets/colab-badge.svg\" alt=\"Open In Colab\"/></a>"
      ]
    },
    {
      "cell_type": "code",
      "execution_count": 1,
      "metadata": {
        "id": "zX4Kg8DUTKWO"
      },
      "outputs": [],
      "source": [
        "#@title Licensed under the Apache License, Version 2.0 (the \"License\");\n",
        "# you may not use this file except in compliance with the License.\n",
        "# You may obtain a copy of the License at\n",
        "#\n",
        "# https://www.apache.org/licenses/LICENSE-2.0\n",
        "#\n",
        "# Unless required by applicable law or agreed to in writing, software\n",
        "# distributed under the License is distributed on an \"AS IS\" BASIS,\n",
        "# WITHOUT WARRANTIES OR CONDITIONS OF ANY KIND, either express or implied.\n",
        "# See the License for the specific language governing permissions and\n",
        "# limitations under the License."
      ]
    },
    {
      "cell_type": "markdown",
      "metadata": {
        "id": "30GC2JEwL2xj"
      },
      "source": [
        "## Again start by downloading the neccessary data into the Colab Instance"
      ]
    },
    {
      "cell_type": "code",
      "execution_count": 2,
      "metadata": {
        "id": "RXZT2UsyIVe_",
        "outputId": "87f56ed9-9344-41c3-9819-d9690ebae42b",
        "colab": {
          "base_uri": "https://localhost:8080/"
        }
      },
      "outputs": [
        {
          "output_type": "stream",
          "name": "stdout",
          "text": [
            "--2024-06-16 14:59:52--  https://storage.googleapis.com/learning-datasets/horse-or-human.zip\n",
            "Resolving storage.googleapis.com (storage.googleapis.com)... 74.125.26.207, 108.177.11.207, 172.217.204.207, ...\n",
            "Connecting to storage.googleapis.com (storage.googleapis.com)|74.125.26.207|:443... connected.\n",
            "HTTP request sent, awaiting response... 200 OK\n",
            "Length: 149574867 (143M) [application/zip]\n",
            "Saving to: ‘/tmp/horse-or-human.zip’\n",
            "\n",
            "/tmp/horse-or-human 100%[===================>] 142.65M   118MB/s    in 1.2s    \n",
            "\n",
            "2024-06-16 14:59:54 (118 MB/s) - ‘/tmp/horse-or-human.zip’ saved [149574867/149574867]\n",
            "\n",
            "--2024-06-16 14:59:54--  https://storage.googleapis.com/learning-datasets/validation-horse-or-human.zip\n",
            "Resolving storage.googleapis.com (storage.googleapis.com)... 74.125.26.207, 108.177.11.207, 172.217.204.207, ...\n",
            "Connecting to storage.googleapis.com (storage.googleapis.com)|74.125.26.207|:443... connected.\n",
            "HTTP request sent, awaiting response... 200 OK\n",
            "Length: 11480187 (11M) [application/zip]\n",
            "Saving to: ‘/tmp/validation-horse-or-human.zip’\n",
            "\n",
            "/tmp/validation-hor 100%[===================>]  10.95M  --.-KB/s    in 0.09s   \n",
            "\n",
            "2024-06-16 14:59:54 (116 MB/s) - ‘/tmp/validation-horse-or-human.zip’ saved [11480187/11480187]\n",
            "\n"
          ]
        }
      ],
      "source": [
        "!wget --no-check-certificate \\\n",
        "    https://storage.googleapis.com/learning-datasets/horse-or-human.zip \\\n",
        "    -O /tmp/horse-or-human.zip\n",
        "\n",
        "!wget --no-check-certificate \\\n",
        "    https://storage.googleapis.com/learning-datasets/validation-horse-or-human.zip \\\n",
        "    -O /tmp/validation-horse-or-human.zip"
      ]
    },
    {
      "cell_type": "code",
      "execution_count": 4,
      "metadata": {
        "id": "PLy3pthUS0D2"
      },
      "outputs": [],
      "source": [
        "import os\n",
        "import zipfile\n",
        "\n",
        "local_zip = '/tmp/horse-or-human.zip'\n",
        "zip_ref = zipfile.ZipFile(local_zip, 'r')\n",
        "zip_ref.extractall('/tmp/horse-or-human')\n",
        "local_zip = '/tmp/validation-horse-or-human.zip'\n",
        "zip_ref = zipfile.ZipFile(local_zip, 'r')\n",
        "zip_ref.extractall('/tmp/validation-horse-or-human')\n",
        "zip_ref.close()"
      ]
    },
    {
      "cell_type": "code",
      "execution_count": 5,
      "metadata": {
        "id": "E_-A0q1QL2xk",
        "outputId": "a4b8be86-9c8c-4363-970d-8ec07663f45f",
        "colab": {
          "base_uri": "https://localhost:8080/"
        }
      },
      "outputs": [
        {
          "output_type": "stream",
          "name": "stdout",
          "text": [
            "['horse08-2.png', 'horse23-5.png', 'horse44-7.png', 'horse05-5.png', 'horse05-1.png', 'horse20-7.png', 'horse30-6.png', 'horse49-8.png', 'horse27-0.png', 'horse01-8.png']\n",
            "['human15-30.png', 'human06-15.png', 'human11-28.png', 'human13-07.png', 'human17-00.png', 'human06-19.png', 'human17-22.png', 'human07-29.png', 'human15-23.png', 'human01-23.png']\n",
            "['horse5-514.png', 'horse4-188.png', 'horse5-504.png', 'horse2-218.png', 'horse4-000.png', 'horse4-495.png', 'horse2-136.png', 'horse4-468.png', 'horse1-411.png', 'horse4-501.png']\n",
            "['valhuman05-18.png', 'valhuman01-22.png', 'valhuman03-08.png', 'valhuman02-17.png', 'valhuman02-00.png', 'valhuman01-18.png', 'valhuman02-13.png', 'valhuman01-10.png', 'valhuman02-01.png', 'valhuman04-02.png']\n"
          ]
        }
      ],
      "source": [
        "# Directory with our training horse pictures\n",
        "train_horse_dir = os.path.join('/tmp/horse-or-human/horses')\n",
        "# Directory with our training human pictures\n",
        "train_human_dir = os.path.join('/tmp/horse-or-human/humans')\n",
        "# Directory with our training horse pictures\n",
        "validation_horse_dir = os.path.join('/tmp/validation-horse-or-human/horses')\n",
        "# Directory with our training human pictures\n",
        "validation_human_dir = os.path.join('/tmp/validation-horse-or-human/humans')\n",
        "train_horse_names = os.listdir('/tmp/horse-or-human/horses')\n",
        "print(train_horse_names[:10])\n",
        "train_human_names = os.listdir('/tmp/horse-or-human/humans')\n",
        "print(train_human_names[:10])\n",
        "validation_horse_hames = os.listdir('/tmp/validation-horse-or-human/horses')\n",
        "print(validation_horse_hames[:10])\n",
        "validation_human_names = os.listdir('/tmp/validation-horse-or-human/humans')\n",
        "print(validation_human_names[:10])"
      ]
    },
    {
      "cell_type": "code",
      "execution_count": 6,
      "metadata": {
        "id": "qvfZg3LQbD-5"
      },
      "outputs": [],
      "source": [
        "import sys\n",
        "import tensorflow as tf\n",
        "\n",
        "# This script requires TensorFlow 2 and Python 3.\n",
        "if tf.__version__.split('.')[0] != '2':\n",
        "    raise Exception((f\"The script is developed and tested for tensorflow 2. \"\n",
        "                     f\"Current version: {tf.__version__}\"))\n",
        "\n",
        "if sys.version_info.major < 3:\n",
        "    raise Exception((f\"The script is developed and tested for Python 3. \"\n",
        "                     f\"Current version: {sys.version_info.major}\"))"
      ]
    },
    {
      "cell_type": "markdown",
      "metadata": {
        "id": "2DFi8qSIL2xl"
      },
      "source": [
        "## Then again define your model and optimizer"
      ]
    },
    {
      "cell_type": "code",
      "execution_count": 7,
      "metadata": {
        "id": "PixZ2s5QbYQ3"
      },
      "outputs": [],
      "source": [
        "model = tf.keras.models.Sequential([\n",
        "    # Note the input shape is the desired size of the image 100x100 with 3 bytes color\n",
        "    # This is the first convolution\n",
        "    tf.keras.layers.Conv2D(32, (3,3), activation='relu', input_shape=(100, 100, 3)),\n",
        "    tf.keras.layers.MaxPooling2D(2, 2),\n",
        "    # The second convolution\n",
        "    tf.keras.layers.Conv2D(64, (3,3), activation='relu'),\n",
        "    tf.keras.layers.MaxPooling2D(2,2),\n",
        "    # The third convolution\n",
        "    tf.keras.layers.Conv2D(128, (3,3), activation='relu'),\n",
        "    tf.keras.layers.MaxPooling2D(2,2),\n",
        "    # The fourth convolution\n",
        "    tf.keras.layers.Conv2D(256, (3,3), activation='relu'),\n",
        "    tf.keras.layers.MaxPooling2D(2,2),\n",
        "    # Flatten the results to feed into a DNN\n",
        "    tf.keras.layers.Flatten(),\n",
        "    # 512 neuron hidden layer\n",
        "    tf.keras.layers.Dense(512, activation='relu'),\n",
        "    tf.keras.layers.Dense(256, activation='relu'),\n",
        "    # Only 1 output neuron. It will contain a value from 0-1 where 0 for 1 class ('horses') and 1 for the other ('humans')\n",
        "    tf.keras.layers.Dense(1, activation='sigmoid')\n",
        "])"
      ]
    },
    {
      "cell_type": "code",
      "execution_count": 8,
      "metadata": {
        "id": "FCO9TvtOPtH7",
        "outputId": "ea9cbe61-3828-4ae6-b3ed-a05d90d55755",
        "colab": {
          "base_uri": "https://localhost:8080/"
        }
      },
      "outputs": [
        {
          "output_type": "stream",
          "name": "stdout",
          "text": [
            "Model: \"sequential\"\n",
            "_________________________________________________________________\n",
            " Layer (type)                Output Shape              Param #   \n",
            "=================================================================\n",
            " conv2d (Conv2D)             (None, 98, 98, 32)        896       \n",
            "                                                                 \n",
            " max_pooling2d (MaxPooling2  (None, 49, 49, 32)        0         \n",
            " D)                                                              \n",
            "                                                                 \n",
            " conv2d_1 (Conv2D)           (None, 47, 47, 64)        18496     \n",
            "                                                                 \n",
            " max_pooling2d_1 (MaxPoolin  (None, 23, 23, 64)        0         \n",
            " g2D)                                                            \n",
            "                                                                 \n",
            " conv2d_2 (Conv2D)           (None, 21, 21, 128)       73856     \n",
            "                                                                 \n",
            " max_pooling2d_2 (MaxPoolin  (None, 10, 10, 128)       0         \n",
            " g2D)                                                            \n",
            "                                                                 \n",
            " conv2d_3 (Conv2D)           (None, 8, 8, 256)         295168    \n",
            "                                                                 \n",
            " max_pooling2d_3 (MaxPoolin  (None, 4, 4, 256)         0         \n",
            " g2D)                                                            \n",
            "                                                                 \n",
            " flatten (Flatten)           (None, 4096)              0         \n",
            "                                                                 \n",
            " dense (Dense)               (None, 512)               2097664   \n",
            "                                                                 \n",
            " dense_1 (Dense)             (None, 256)               131328    \n",
            "                                                                 \n",
            " dense_2 (Dense)             (None, 1)                 257       \n",
            "                                                                 \n",
            "=================================================================\n",
            "Total params: 2617665 (9.99 MB)\n",
            "Trainable params: 2617665 (9.99 MB)\n",
            "Non-trainable params: 0 (0.00 Byte)\n",
            "_________________________________________________________________\n",
            "None\n"
          ]
        }
      ],
      "source": [
        "print(model.summary())"
      ]
    },
    {
      "cell_type": "code",
      "execution_count": 9,
      "metadata": {
        "id": "8DHWhFP_uhq3",
        "outputId": "6cf0b36a-b848-42ea-83f3-41e7962dad70",
        "colab": {
          "base_uri": "https://localhost:8080/"
        }
      },
      "outputs": [
        {
          "output_type": "stream",
          "name": "stderr",
          "text": [
            "WARNING:absl:`lr` is deprecated in Keras optimizer, please use `learning_rate` or use the legacy optimizer, e.g.,tf.keras.optimizers.legacy.Adam.\n"
          ]
        }
      ],
      "source": [
        "from tensorflow.keras.optimizers import RMSprop\n",
        "optimizer = tf.keras.optimizers.Adam(lr=0.0001)\n",
        "model.compile(loss='binary_crossentropy',\n",
        "              optimizer=optimizer,\n",
        "              metrics=['acc'])"
      ]
    },
    {
      "cell_type": "markdown",
      "metadata": {
        "id": "wKYbRjx8L2xl"
      },
      "source": [
        "## Now when we organize the data into Generators note how we use many more kinds of Data Augmentation!"
      ]
    },
    {
      "cell_type": "code",
      "execution_count": 10,
      "metadata": {
        "id": "ClebU9NJg99G",
        "outputId": "778fe8fb-2fd3-4b95-f3d7-7c560689fad2",
        "colab": {
          "base_uri": "https://localhost:8080/"
        }
      },
      "outputs": [
        {
          "output_type": "stream",
          "name": "stdout",
          "text": [
            "Found 1027 images belonging to 2 classes.\n",
            "Found 256 images belonging to 2 classes.\n"
          ]
        }
      ],
      "source": [
        "from tensorflow.keras.preprocessing.image import ImageDataGenerator\n",
        "\n",
        "# All images will be augmented wiht the full list of augmentation techniques below\n",
        "train_datagen = ImageDataGenerator(\n",
        "      rescale=1./255,\n",
        "      rotation_range=20,\n",
        "      width_shift_range=0.2,\n",
        "      height_shift_range=0.2,\n",
        "      shear_range=0.2,\n",
        "      zoom_range=0.2,\n",
        "      horizontal_flip=True,\n",
        "      fill_mode='nearest'\n",
        "      )\n",
        "\n",
        "# Flow training images in batches of 128 using train_datagen generator\n",
        "train_generator = train_datagen.flow_from_directory(\n",
        "        '/tmp/horse-or-human/',  # This is the source directory for training images\n",
        "        target_size=(100, 100),  # All images will be resized to 300x300\n",
        "        batch_size=128,\n",
        "        # Since we use binary_crossentropy loss, we need binary labels\n",
        "        class_mode='binary')\n",
        "\n",
        "validation_datagen = ImageDataGenerator(rescale=1./255)\n",
        "\n",
        "validation_generator = validation_datagen.flow_from_directory(\n",
        "        '/tmp/validation-horse-or-human',\n",
        "        target_size=(100, 100),\n",
        "        class_mode='binary')\n"
      ]
    },
    {
      "cell_type": "markdown",
      "metadata": {
        "id": "LcGH0D3CL2xm"
      },
      "source": [
        "## Train your model with the new augmented data\n",
        "Since we now have more data due to the data augmentation this training process will take a bit longer than the last time. However, you'll find that the results are much better!"
      ]
    },
    {
      "cell_type": "code",
      "execution_count": 11,
      "metadata": {
        "id": "Fb1_lgobv81m",
        "outputId": "6140881a-65a2-4530-8fa7-95e07580cb0d",
        "colab": {
          "base_uri": "https://localhost:8080/"
        }
      },
      "outputs": [
        {
          "output_type": "stream",
          "name": "stdout",
          "text": [
            "Epoch 1/100\n",
            "8/8 [==============================] - 14s 839ms/step - loss: 0.6996 - acc: 0.5384 - val_loss: 0.6901 - val_acc: 0.5000\n",
            "Epoch 2/100\n",
            "8/8 [==============================] - 8s 1s/step - loss: 0.6897 - acc: 0.5139 - val_loss: 0.6817 - val_acc: 0.5000\n",
            "Epoch 3/100\n",
            "8/8 [==============================] - 8s 1s/step - loss: 0.6527 - acc: 0.6452 - val_loss: 0.9492 - val_acc: 0.5000\n",
            "Epoch 4/100\n",
            "8/8 [==============================] - 8s 983ms/step - loss: 0.6222 - acc: 0.6496 - val_loss: 0.6499 - val_acc: 0.5039\n",
            "Epoch 5/100\n",
            "8/8 [==============================] - 8s 946ms/step - loss: 0.5889 - acc: 0.6974 - val_loss: 0.4936 - val_acc: 0.6914\n",
            "Epoch 6/100\n",
            "8/8 [==============================] - 9s 1s/step - loss: 0.4807 - acc: 0.7531 - val_loss: 3.9705 - val_acc: 0.5000\n",
            "Epoch 7/100\n",
            "8/8 [==============================] - 9s 1s/step - loss: 0.6066 - acc: 0.6719 - val_loss: 0.5288 - val_acc: 0.8086\n",
            "Epoch 8/100\n",
            "8/8 [==============================] - 8s 1s/step - loss: 0.6236 - acc: 0.6596 - val_loss: 0.5734 - val_acc: 0.5430\n",
            "Epoch 9/100\n",
            "8/8 [==============================] - 7s 1s/step - loss: 0.5670 - acc: 0.7208 - val_loss: 0.8422 - val_acc: 0.5039\n",
            "Epoch 10/100\n",
            "8/8 [==============================] - 8s 1s/step - loss: 0.5112 - acc: 0.7330 - val_loss: 0.9247 - val_acc: 0.5352\n",
            "Epoch 11/100\n",
            "8/8 [==============================] - 9s 1s/step - loss: 0.4588 - acc: 0.7920 - val_loss: 0.8564 - val_acc: 0.5664\n",
            "Epoch 12/100\n",
            "8/8 [==============================] - 8s 940ms/step - loss: 0.4620 - acc: 0.7909 - val_loss: 1.9824 - val_acc: 0.5000\n",
            "Epoch 13/100\n",
            "8/8 [==============================] - 7s 904ms/step - loss: 0.3817 - acc: 0.8131 - val_loss: 4.0797 - val_acc: 0.5156\n",
            "Epoch 14/100\n",
            "8/8 [==============================] - 8s 1s/step - loss: 0.3096 - acc: 0.8665 - val_loss: 3.1760 - val_acc: 0.5703\n",
            "Epoch 15/100\n",
            "8/8 [==============================] - 8s 1s/step - loss: 0.2599 - acc: 0.8899 - val_loss: 4.7604 - val_acc: 0.5039\n",
            "Epoch 16/100\n",
            "8/8 [==============================] - 8s 950ms/step - loss: 0.3080 - acc: 0.8687 - val_loss: 4.2382 - val_acc: 0.5039\n",
            "Epoch 17/100\n",
            "8/8 [==============================] - 8s 1s/step - loss: 0.2735 - acc: 0.8665 - val_loss: 2.8594 - val_acc: 0.5078\n",
            "Epoch 18/100\n",
            "8/8 [==============================] - 9s 1s/step - loss: 0.3234 - acc: 0.8676 - val_loss: 0.7395 - val_acc: 0.7734\n",
            "Epoch 19/100\n",
            "8/8 [==============================] - 8s 950ms/step - loss: 0.3053 - acc: 0.8754 - val_loss: 2.3821 - val_acc: 0.5469\n",
            "Epoch 20/100\n",
            "8/8 [==============================] - 8s 948ms/step - loss: 0.2699 - acc: 0.8843 - val_loss: 2.9266 - val_acc: 0.5703\n",
            "Epoch 21/100\n",
            "8/8 [==============================] - 9s 1s/step - loss: 0.1831 - acc: 0.9268 - val_loss: 5.2359 - val_acc: 0.5703\n",
            "Epoch 22/100\n",
            "8/8 [==============================] - 8s 1s/step - loss: 0.3377 - acc: 0.8476 - val_loss: 1.3201 - val_acc: 0.6094\n",
            "Epoch 23/100\n",
            "8/8 [==============================] - 7s 911ms/step - loss: 0.4271 - acc: 0.7931 - val_loss: 0.8387 - val_acc: 0.7578\n",
            "Epoch 24/100\n",
            "8/8 [==============================] - 9s 1s/step - loss: 0.3279 - acc: 0.8788 - val_loss: 1.8200 - val_acc: 0.6562\n",
            "Epoch 25/100\n",
            "8/8 [==============================] - 9s 1s/step - loss: 0.3503 - acc: 0.8476 - val_loss: 0.7946 - val_acc: 0.7930\n",
            "Epoch 26/100\n",
            "8/8 [==============================] - 7s 907ms/step - loss: 0.2660 - acc: 0.8932 - val_loss: 1.1335 - val_acc: 0.7617\n",
            "Epoch 27/100\n",
            "8/8 [==============================] - 8s 1s/step - loss: 0.2595 - acc: 0.8832 - val_loss: 0.8642 - val_acc: 0.8320\n",
            "Epoch 28/100\n",
            "8/8 [==============================] - 9s 1s/step - loss: 0.1938 - acc: 0.9344 - val_loss: 1.5493 - val_acc: 0.7344\n",
            "Epoch 29/100\n",
            "8/8 [==============================] - 9s 1s/step - loss: 0.1379 - acc: 0.9482 - val_loss: 2.2087 - val_acc: 0.6914\n",
            "Epoch 30/100\n",
            "8/8 [==============================] - 8s 948ms/step - loss: 0.1517 - acc: 0.9388 - val_loss: 3.3966 - val_acc: 0.5547\n",
            "Epoch 31/100\n",
            "8/8 [==============================] - 8s 950ms/step - loss: 0.1652 - acc: 0.9244 - val_loss: 2.3307 - val_acc: 0.5938\n",
            "Epoch 32/100\n",
            "8/8 [==============================] - 8s 1s/step - loss: 0.1391 - acc: 0.9477 - val_loss: 2.0097 - val_acc: 0.6875\n",
            "Epoch 33/100\n",
            "8/8 [==============================] - 8s 1s/step - loss: 0.1016 - acc: 0.9544 - val_loss: 2.5175 - val_acc: 0.6758\n",
            "Epoch 34/100\n",
            "8/8 [==============================] - 7s 1s/step - loss: 0.0823 - acc: 0.9722 - val_loss: 3.3180 - val_acc: 0.6172\n",
            "Epoch 35/100\n",
            "8/8 [==============================] - 8s 991ms/step - loss: 0.0665 - acc: 0.9778 - val_loss: 3.1092 - val_acc: 0.6406\n",
            "Epoch 36/100\n",
            "8/8 [==============================] - 9s 1s/step - loss: 0.0736 - acc: 0.9666 - val_loss: 3.8683 - val_acc: 0.5703\n",
            "Epoch 37/100\n",
            "8/8 [==============================] - 8s 963ms/step - loss: 0.0675 - acc: 0.9789 - val_loss: 3.7301 - val_acc: 0.5586\n",
            "Epoch 38/100\n",
            "8/8 [==============================] - 8s 953ms/step - loss: 0.1366 - acc: 0.9477 - val_loss: 5.8765 - val_acc: 0.5000\n",
            "Epoch 39/100\n",
            "8/8 [==============================] - 8s 1s/step - loss: 0.1568 - acc: 0.9455 - val_loss: 4.3493 - val_acc: 0.5312\n",
            "Epoch 40/100\n",
            "8/8 [==============================] - 8s 1s/step - loss: 0.1129 - acc: 0.9600 - val_loss: 4.8892 - val_acc: 0.5195\n",
            "Epoch 41/100\n",
            "8/8 [==============================] - 7s 934ms/step - loss: 0.0971 - acc: 0.9555 - val_loss: 3.9530 - val_acc: 0.6016\n",
            "Epoch 42/100\n",
            "8/8 [==============================] - 7s 921ms/step - loss: 0.0913 - acc: 0.9677 - val_loss: 2.6822 - val_acc: 0.6758\n",
            "Epoch 43/100\n",
            "8/8 [==============================] - 9s 1s/step - loss: 0.0591 - acc: 0.9811 - val_loss: 3.6028 - val_acc: 0.6484\n",
            "Epoch 44/100\n",
            "8/8 [==============================] - 9s 1s/step - loss: 0.0690 - acc: 0.9778 - val_loss: 1.9520 - val_acc: 0.7734\n",
            "Epoch 45/100\n",
            "8/8 [==============================] - 7s 1s/step - loss: 0.1244 - acc: 0.9544 - val_loss: 2.4414 - val_acc: 0.7383\n",
            "Epoch 46/100\n",
            "8/8 [==============================] - 8s 996ms/step - loss: 0.0804 - acc: 0.9677 - val_loss: 3.5406 - val_acc: 0.6133\n",
            "Epoch 47/100\n",
            "8/8 [==============================] - 8s 1s/step - loss: 0.0681 - acc: 0.9744 - val_loss: 5.2718 - val_acc: 0.5859\n",
            "Epoch 48/100\n",
            "8/8 [==============================] - 8s 1s/step - loss: 0.1744 - acc: 0.9399 - val_loss: 2.1360 - val_acc: 0.7383\n",
            "Epoch 49/100\n",
            "8/8 [==============================] - 8s 945ms/step - loss: 0.0788 - acc: 0.9744 - val_loss: 1.1218 - val_acc: 0.8203\n",
            "Epoch 50/100\n",
            "8/8 [==============================] - 9s 1s/step - loss: 0.0644 - acc: 0.9785 - val_loss: 1.3943 - val_acc: 0.8047\n",
            "Epoch 51/100\n",
            "8/8 [==============================] - 9s 1s/step - loss: 0.0524 - acc: 0.9811 - val_loss: 2.4602 - val_acc: 0.7188\n",
            "Epoch 52/100\n",
            "8/8 [==============================] - 7s 904ms/step - loss: 0.0607 - acc: 0.9766 - val_loss: 3.0883 - val_acc: 0.6719\n",
            "Epoch 53/100\n",
            "8/8 [==============================] - 8s 954ms/step - loss: 0.0432 - acc: 0.9789 - val_loss: 2.8461 - val_acc: 0.7031\n",
            "Epoch 54/100\n",
            "8/8 [==============================] - 8s 960ms/step - loss: 0.0258 - acc: 0.9889 - val_loss: 2.7316 - val_acc: 0.7266\n",
            "Epoch 55/100\n",
            "8/8 [==============================] - 8s 1s/step - loss: 0.0173 - acc: 0.9933 - val_loss: 2.8446 - val_acc: 0.7148\n",
            "Epoch 56/100\n",
            "8/8 [==============================] - 8s 1s/step - loss: 0.0317 - acc: 0.9889 - val_loss: 2.7906 - val_acc: 0.7148\n",
            "Epoch 57/100\n",
            "8/8 [==============================] - 8s 946ms/step - loss: 0.1643 - acc: 0.9511 - val_loss: 1.2789 - val_acc: 0.7578\n",
            "Epoch 58/100\n",
            "8/8 [==============================] - 8s 996ms/step - loss: 0.1871 - acc: 0.9333 - val_loss: 1.4007 - val_acc: 0.6133\n",
            "Epoch 59/100\n",
            "8/8 [==============================] - 8s 1s/step - loss: 0.0996 - acc: 0.9689 - val_loss: 3.3251 - val_acc: 0.5664\n",
            "Epoch 60/100\n",
            "8/8 [==============================] - 8s 1s/step - loss: 0.0774 - acc: 0.9711 - val_loss: 2.9883 - val_acc: 0.6055\n",
            "Epoch 61/100\n",
            "8/8 [==============================] - 8s 947ms/step - loss: 0.0551 - acc: 0.9800 - val_loss: 2.4165 - val_acc: 0.6523\n",
            "Epoch 62/100\n",
            "8/8 [==============================] - 9s 1s/step - loss: 0.0619 - acc: 0.9766 - val_loss: 3.4440 - val_acc: 0.5859\n",
            "Epoch 63/100\n",
            "8/8 [==============================] - 9s 1s/step - loss: 0.0445 - acc: 0.9844 - val_loss: 2.7679 - val_acc: 0.6641\n",
            "Epoch 64/100\n",
            "8/8 [==============================] - 8s 948ms/step - loss: 0.0430 - acc: 0.9833 - val_loss: 2.2289 - val_acc: 0.6875\n",
            "Epoch 65/100\n",
            "8/8 [==============================] - 8s 1s/step - loss: 0.0577 - acc: 0.9755 - val_loss: 3.9984 - val_acc: 0.6211\n",
            "Epoch 66/100\n",
            "8/8 [==============================] - 8s 1s/step - loss: 0.0336 - acc: 0.9900 - val_loss: 3.7050 - val_acc: 0.6367\n",
            "Epoch 67/100\n",
            "8/8 [==============================] - 8s 1s/step - loss: 0.0277 - acc: 0.9922 - val_loss: 3.7427 - val_acc: 0.6445\n",
            "Epoch 68/100\n",
            "8/8 [==============================] - 7s 1s/step - loss: 0.0308 - acc: 0.9889 - val_loss: 6.1851 - val_acc: 0.5820\n",
            "Epoch 69/100\n",
            "8/8 [==============================] - 9s 1s/step - loss: 0.0359 - acc: 0.9900 - val_loss: 2.0848 - val_acc: 0.7305\n",
            "Epoch 70/100\n",
            "8/8 [==============================] - 9s 1s/step - loss: 0.0342 - acc: 0.9883 - val_loss: 3.2286 - val_acc: 0.6719\n",
            "Epoch 71/100\n",
            "8/8 [==============================] - 8s 955ms/step - loss: 0.0371 - acc: 0.9833 - val_loss: 3.3872 - val_acc: 0.5938\n",
            "Epoch 72/100\n",
            "8/8 [==============================] - 8s 988ms/step - loss: 0.0364 - acc: 0.9873 - val_loss: 3.8023 - val_acc: 0.6250\n",
            "Epoch 73/100\n",
            "8/8 [==============================] - 8s 1s/step - loss: 0.0364 - acc: 0.9867 - val_loss: 4.3723 - val_acc: 0.6055\n",
            "Epoch 74/100\n",
            "8/8 [==============================] - 9s 1s/step - loss: 0.0199 - acc: 0.9933 - val_loss: 3.8626 - val_acc: 0.6250\n",
            "Epoch 75/100\n",
            "8/8 [==============================] - 7s 901ms/step - loss: 0.0319 - acc: 0.9889 - val_loss: 3.2642 - val_acc: 0.6406\n",
            "Epoch 76/100\n",
            "8/8 [==============================] - 7s 904ms/step - loss: 0.0166 - acc: 0.9944 - val_loss: 3.4589 - val_acc: 0.6484\n",
            "Epoch 77/100\n",
            "8/8 [==============================] - 8s 1s/step - loss: 0.0382 - acc: 0.9878 - val_loss: 3.8884 - val_acc: 0.6289\n",
            "Epoch 78/100\n",
            "8/8 [==============================] - 8s 1s/step - loss: 0.0101 - acc: 0.9956 - val_loss: 3.3479 - val_acc: 0.6445\n",
            "Epoch 79/100\n",
            "8/8 [==============================] - 8s 951ms/step - loss: 0.0091 - acc: 0.9989 - val_loss: 3.5726 - val_acc: 0.6406\n",
            "Epoch 80/100\n",
            "8/8 [==============================] - 8s 1s/step - loss: 0.0183 - acc: 0.9944 - val_loss: 3.2817 - val_acc: 0.6523\n",
            "Epoch 81/100\n",
            "8/8 [==============================] - 9s 1s/step - loss: 0.0138 - acc: 0.9971 - val_loss: 4.1870 - val_acc: 0.6211\n",
            "Epoch 82/100\n",
            "8/8 [==============================] - 7s 913ms/step - loss: 0.0172 - acc: 0.9911 - val_loss: 4.2462 - val_acc: 0.6289\n",
            "Epoch 83/100\n",
            "8/8 [==============================] - 9s 1s/step - loss: 0.0112 - acc: 0.9961 - val_loss: 3.9350 - val_acc: 0.6445\n",
            "Epoch 84/100\n",
            "8/8 [==============================] - 9s 1s/step - loss: 0.0077 - acc: 0.9967 - val_loss: 3.8500 - val_acc: 0.6367\n",
            "Epoch 85/100\n",
            "8/8 [==============================] - 8s 1s/step - loss: 0.0135 - acc: 0.9978 - val_loss: 4.1478 - val_acc: 0.6289\n",
            "Epoch 86/100\n",
            "8/8 [==============================] - 7s 915ms/step - loss: 0.0107 - acc: 0.9978 - val_loss: 3.3184 - val_acc: 0.7031\n",
            "Epoch 87/100\n",
            "8/8 [==============================] - 7s 932ms/step - loss: 0.0068 - acc: 0.9978 - val_loss: 3.3742 - val_acc: 0.7031\n",
            "Epoch 88/100\n",
            "8/8 [==============================] - 8s 1s/step - loss: 0.0634 - acc: 0.9700 - val_loss: 0.9538 - val_acc: 0.9062\n",
            "Epoch 89/100\n",
            "8/8 [==============================] - 9s 1s/step - loss: 0.0654 - acc: 0.9814 - val_loss: 1.7329 - val_acc: 0.8477\n",
            "Epoch 90/100\n",
            "8/8 [==============================] - 7s 1s/step - loss: 0.0273 - acc: 0.9889 - val_loss: 1.7297 - val_acc: 0.8164\n",
            "Epoch 91/100\n",
            "8/8 [==============================] - 9s 1s/step - loss: 0.0182 - acc: 0.9911 - val_loss: 2.9233 - val_acc: 0.6680\n",
            "Epoch 92/100\n",
            "8/8 [==============================] - 8s 1s/step - loss: 0.0135 - acc: 0.9933 - val_loss: 2.1301 - val_acc: 0.7383\n",
            "Epoch 93/100\n",
            "8/8 [==============================] - 7s 911ms/step - loss: 0.0110 - acc: 0.9978 - val_loss: 3.1468 - val_acc: 0.6680\n",
            "Epoch 94/100\n",
            "8/8 [==============================] - 8s 1s/step - loss: 0.0125 - acc: 0.9944 - val_loss: 3.0384 - val_acc: 0.6914\n",
            "Epoch 95/100\n",
            "8/8 [==============================] - 9s 1s/step - loss: 0.0153 - acc: 0.9944 - val_loss: 4.2916 - val_acc: 0.6523\n",
            "Epoch 96/100\n",
            "8/8 [==============================] - 8s 948ms/step - loss: 0.0162 - acc: 0.9944 - val_loss: 3.2531 - val_acc: 0.7070\n",
            "Epoch 97/100\n",
            "8/8 [==============================] - 8s 944ms/step - loss: 0.0107 - acc: 0.9967 - val_loss: 2.2704 - val_acc: 0.7812\n",
            "Epoch 98/100\n",
            "8/8 [==============================] - 8s 1s/step - loss: 0.0238 - acc: 0.9933 - val_loss: 1.9955 - val_acc: 0.7969\n",
            "Epoch 99/100\n",
            "8/8 [==============================] - 9s 1s/step - loss: 0.0178 - acc: 0.9956 - val_loss: 4.1133 - val_acc: 0.6602\n",
            "Epoch 100/100\n",
            "8/8 [==============================] - 8s 1s/step - loss: 0.0159 - acc: 0.9967 - val_loss: 2.7350 - val_acc: 0.7500\n"
          ]
        }
      ],
      "source": [
        "history = model.fit(\n",
        "      train_generator,\n",
        "      steps_per_epoch=8,\n",
        "      epochs=100,\n",
        "      verbose=1,\n",
        "      validation_data=validation_generator)"
      ]
    },
    {
      "cell_type": "markdown",
      "metadata": {
        "id": "o6vSHzPR2ghH"
      },
      "source": [
        "## Try Running the Model Again\n",
        "\n",
        "Can you confuse it this time? Or did the extra data augmentation help the model generalize? What do you think it was about your confusing examples that are no longer confusing (or what is still confusing)?"
      ]
    },
    {
      "cell_type": "code",
      "execution_count": 13,
      "metadata": {
        "id": "DoWp43WxJDNT",
        "outputId": "0b1651a1-be02-4992-f443-9f975985948a",
        "colab": {
          "base_uri": "https://localhost:8080/",
          "height": 137
        }
      },
      "outputs": [
        {
          "output_type": "display_data",
          "data": {
            "text/plain": [
              "<IPython.core.display.HTML object>"
            ],
            "text/html": [
              "\n",
              "     <input type=\"file\" id=\"files-9738b265-7725-4100-a2ad-f82889f1a1e2\" name=\"files[]\" multiple disabled\n",
              "        style=\"border:none\" />\n",
              "     <output id=\"result-9738b265-7725-4100-a2ad-f82889f1a1e2\">\n",
              "      Upload widget is only available when the cell has been executed in the\n",
              "      current browser session. Please rerun this cell to enable.\n",
              "      </output>\n",
              "      <script>// Copyright 2017 Google LLC\n",
              "//\n",
              "// Licensed under the Apache License, Version 2.0 (the \"License\");\n",
              "// you may not use this file except in compliance with the License.\n",
              "// You may obtain a copy of the License at\n",
              "//\n",
              "//      http://www.apache.org/licenses/LICENSE-2.0\n",
              "//\n",
              "// Unless required by applicable law or agreed to in writing, software\n",
              "// distributed under the License is distributed on an \"AS IS\" BASIS,\n",
              "// WITHOUT WARRANTIES OR CONDITIONS OF ANY KIND, either express or implied.\n",
              "// See the License for the specific language governing permissions and\n",
              "// limitations under the License.\n",
              "\n",
              "/**\n",
              " * @fileoverview Helpers for google.colab Python module.\n",
              " */\n",
              "(function(scope) {\n",
              "function span(text, styleAttributes = {}) {\n",
              "  const element = document.createElement('span');\n",
              "  element.textContent = text;\n",
              "  for (const key of Object.keys(styleAttributes)) {\n",
              "    element.style[key] = styleAttributes[key];\n",
              "  }\n",
              "  return element;\n",
              "}\n",
              "\n",
              "// Max number of bytes which will be uploaded at a time.\n",
              "const MAX_PAYLOAD_SIZE = 100 * 1024;\n",
              "\n",
              "function _uploadFiles(inputId, outputId) {\n",
              "  const steps = uploadFilesStep(inputId, outputId);\n",
              "  const outputElement = document.getElementById(outputId);\n",
              "  // Cache steps on the outputElement to make it available for the next call\n",
              "  // to uploadFilesContinue from Python.\n",
              "  outputElement.steps = steps;\n",
              "\n",
              "  return _uploadFilesContinue(outputId);\n",
              "}\n",
              "\n",
              "// This is roughly an async generator (not supported in the browser yet),\n",
              "// where there are multiple asynchronous steps and the Python side is going\n",
              "// to poll for completion of each step.\n",
              "// This uses a Promise to block the python side on completion of each step,\n",
              "// then passes the result of the previous step as the input to the next step.\n",
              "function _uploadFilesContinue(outputId) {\n",
              "  const outputElement = document.getElementById(outputId);\n",
              "  const steps = outputElement.steps;\n",
              "\n",
              "  const next = steps.next(outputElement.lastPromiseValue);\n",
              "  return Promise.resolve(next.value.promise).then((value) => {\n",
              "    // Cache the last promise value to make it available to the next\n",
              "    // step of the generator.\n",
              "    outputElement.lastPromiseValue = value;\n",
              "    return next.value.response;\n",
              "  });\n",
              "}\n",
              "\n",
              "/**\n",
              " * Generator function which is called between each async step of the upload\n",
              " * process.\n",
              " * @param {string} inputId Element ID of the input file picker element.\n",
              " * @param {string} outputId Element ID of the output display.\n",
              " * @return {!Iterable<!Object>} Iterable of next steps.\n",
              " */\n",
              "function* uploadFilesStep(inputId, outputId) {\n",
              "  const inputElement = document.getElementById(inputId);\n",
              "  inputElement.disabled = false;\n",
              "\n",
              "  const outputElement = document.getElementById(outputId);\n",
              "  outputElement.innerHTML = '';\n",
              "\n",
              "  const pickedPromise = new Promise((resolve) => {\n",
              "    inputElement.addEventListener('change', (e) => {\n",
              "      resolve(e.target.files);\n",
              "    });\n",
              "  });\n",
              "\n",
              "  const cancel = document.createElement('button');\n",
              "  inputElement.parentElement.appendChild(cancel);\n",
              "  cancel.textContent = 'Cancel upload';\n",
              "  const cancelPromise = new Promise((resolve) => {\n",
              "    cancel.onclick = () => {\n",
              "      resolve(null);\n",
              "    };\n",
              "  });\n",
              "\n",
              "  // Wait for the user to pick the files.\n",
              "  const files = yield {\n",
              "    promise: Promise.race([pickedPromise, cancelPromise]),\n",
              "    response: {\n",
              "      action: 'starting',\n",
              "    }\n",
              "  };\n",
              "\n",
              "  cancel.remove();\n",
              "\n",
              "  // Disable the input element since further picks are not allowed.\n",
              "  inputElement.disabled = true;\n",
              "\n",
              "  if (!files) {\n",
              "    return {\n",
              "      response: {\n",
              "        action: 'complete',\n",
              "      }\n",
              "    };\n",
              "  }\n",
              "\n",
              "  for (const file of files) {\n",
              "    const li = document.createElement('li');\n",
              "    li.append(span(file.name, {fontWeight: 'bold'}));\n",
              "    li.append(span(\n",
              "        `(${file.type || 'n/a'}) - ${file.size} bytes, ` +\n",
              "        `last modified: ${\n",
              "            file.lastModifiedDate ? file.lastModifiedDate.toLocaleDateString() :\n",
              "                                    'n/a'} - `));\n",
              "    const percent = span('0% done');\n",
              "    li.appendChild(percent);\n",
              "\n",
              "    outputElement.appendChild(li);\n",
              "\n",
              "    const fileDataPromise = new Promise((resolve) => {\n",
              "      const reader = new FileReader();\n",
              "      reader.onload = (e) => {\n",
              "        resolve(e.target.result);\n",
              "      };\n",
              "      reader.readAsArrayBuffer(file);\n",
              "    });\n",
              "    // Wait for the data to be ready.\n",
              "    let fileData = yield {\n",
              "      promise: fileDataPromise,\n",
              "      response: {\n",
              "        action: 'continue',\n",
              "      }\n",
              "    };\n",
              "\n",
              "    // Use a chunked sending to avoid message size limits. See b/62115660.\n",
              "    let position = 0;\n",
              "    do {\n",
              "      const length = Math.min(fileData.byteLength - position, MAX_PAYLOAD_SIZE);\n",
              "      const chunk = new Uint8Array(fileData, position, length);\n",
              "      position += length;\n",
              "\n",
              "      const base64 = btoa(String.fromCharCode.apply(null, chunk));\n",
              "      yield {\n",
              "        response: {\n",
              "          action: 'append',\n",
              "          file: file.name,\n",
              "          data: base64,\n",
              "        },\n",
              "      };\n",
              "\n",
              "      let percentDone = fileData.byteLength === 0 ?\n",
              "          100 :\n",
              "          Math.round((position / fileData.byteLength) * 100);\n",
              "      percent.textContent = `${percentDone}% done`;\n",
              "\n",
              "    } while (position < fileData.byteLength);\n",
              "  }\n",
              "\n",
              "  // All done.\n",
              "  yield {\n",
              "    response: {\n",
              "      action: 'complete',\n",
              "    }\n",
              "  };\n",
              "}\n",
              "\n",
              "scope.google = scope.google || {};\n",
              "scope.google.colab = scope.google.colab || {};\n",
              "scope.google.colab._files = {\n",
              "  _uploadFiles,\n",
              "  _uploadFilesContinue,\n",
              "};\n",
              "})(self);\n",
              "</script> "
            ]
          },
          "metadata": {}
        },
        {
          "output_type": "stream",
          "name": "stdout",
          "text": [
            "Saving IMG_1701.jpeg to IMG_1701.jpeg\n",
            "1/1 [==============================] - 0s 20ms/step\n",
            "[[0.02242013]]\n",
            "[0.02242013]\n",
            "IMG_1701.jpeg is a horse\n"
          ]
        }
      ],
      "source": [
        "import numpy as np\n",
        "from google.colab import files\n",
        "from tensorflow.keras.utils import load_img, img_to_array\n",
        "\n",
        "uploaded = files.upload()\n",
        "\n",
        "for fn in uploaded.keys():\n",
        "\n",
        "  # predicting images\n",
        "  path = '/content/' + fn\n",
        "  img = load_img(path, target_size=(100, 100))\n",
        "  x = img_to_array(img)\n",
        "  x = x / 255.0\n",
        "  x = np.expand_dims(x, axis=0)\n",
        "\n",
        "  image_tensor = np.vstack([x])\n",
        "  classes = model.predict(image_tensor)\n",
        "  print(classes)\n",
        "  print(classes[0])\n",
        "  if classes[0]>0.5:\n",
        "    print(fn + \" is a human\")\n",
        "  else:\n",
        "    print(fn + \" is a horse\")"
      ]
    },
    {
      "cell_type": "markdown",
      "metadata": {
        "id": "DzVJDupFL2xm"
      },
      "source": [
        "## Finally again lets visualize some of the layers for intuition"
      ]
    },
    {
      "cell_type": "code",
      "execution_count": 14,
      "metadata": {
        "id": "xV_9ZT7CL2xn",
        "outputId": "04eb50b6-5837-4cfa-e254-f0d5860a01b8",
        "colab": {
          "base_uri": "https://localhost:8080/",
          "height": 1000
        }
      },
      "outputs": [
        {
          "output_type": "stream",
          "name": "stdout",
          "text": [
            "1/1 [==============================] - 0s 91ms/step\n"
          ]
        },
        {
          "output_type": "stream",
          "name": "stderr",
          "text": [
            "<ipython-input-14-b8d57963b6aa>:49: RuntimeWarning: invalid value encountered in divide\n",
            "  x /= x.std()\n",
            "<ipython-input-14-b8d57963b6aa>:52: RuntimeWarning: invalid value encountered in cast\n",
            "  x = np.clip(x, 0, 255).astype('uint8')\n"
          ]
        },
        {
          "output_type": "display_data",
          "data": {
            "text/plain": [
              "<Figure size 2000x400 with 1 Axes>"
            ],
            "image/png": "[encoded data removed]"
          },
          "metadata": {}
        },
        {
          "output_type": "display_data",
          "data": {
            "text/plain": [
              "<Figure size 2000x400 with 1 Axes>"
            ],
            "image/png": "[encoded data removed]"
          },
          "metadata": {}
        },
        {
          "output_type": "display_data",
          "data": {
            "text/plain": [
              "<Figure size 2000x400 with 1 Axes>"
            ],
            "image/png": "[encoded data removed]"
          },
          "metadata": {}
        },
        {
          "output_type": "display_data",
          "data": {
            "text/plain": [
              "<Figure size 2000x400 with 1 Axes>"
            ],
            "image/png": "[encoded data removed]"
          },
          "metadata": {}
        },
        {
          "output_type": "display_data",
          "data": {
            "text/plain": [
              "<Figure size 2000x400 with 1 Axes>"
            ],
            "image/png": "[encoded data removed]"
          },
          "metadata": {}
        },
        {
          "output_type": "display_data",
          "data": {
            "text/plain": [
              "<Figure size 2000x400 with 1 Axes>"
            ],
            "image/png": "[encoded data removed]"
          },
          "metadata": {}
        },
        {
          "output_type": "display_data",
          "data": {
            "text/plain": [
              "<Figure size 2000x400 with 1 Axes>"
            ],
            "image/png": "[encoded data removed]"
          },
          "metadata": {}
        }
      ],
      "source": [
        "import random\n",
        "import numpy as np\n",
        "from tensorflow.keras.preprocessing.image import img_to_array, load_img\n",
        "\n",
        "%matplotlib inline\n",
        "\n",
        "import matplotlib.pyplot as plt\n",
        "import matplotlib.image as mpimg\n",
        "\n",
        "# Let's define a new Model that will take an image as input, and will output\n",
        "# intermediate representations for all layers in the previous model after the first.\n",
        "successive_outputs = [layer.output for layer in model.layers[1:]]\n",
        "visualization_model = tf.keras.models.Model(inputs = model.input, outputs = successive_outputs)\n",
        "# Let's prepare a random input image from the training set.\n",
        "horse_img_files = [os.path.join(train_horse_dir, f) for f in train_horse_names]\n",
        "human_img_files = [os.path.join(train_human_dir, f) for f in train_human_names]\n",
        "img_path = random.choice(horse_img_files + human_img_files)\n",
        "# uncomment the following line if you want to pick the Xth human file manually\n",
        "# img_path = human_img_files[0]\n",
        "\n",
        "img = load_img(img_path, target_size=(100, 100))  # this is a PIL image\n",
        "x = img_to_array(img)  # Numpy array with shape (100, 100, 3)\n",
        "x = x.reshape((1,) + x.shape)  # Numpy array with shape (1, 100, 100, 3)\n",
        "\n",
        "# Rescale by 1/255\n",
        "x /= 255.0\n",
        "\n",
        "# Let's run our image through our network, thus obtaining all\n",
        "# intermediate representations for this image.\n",
        "successive_feature_maps = visualization_model.predict(x)\n",
        "\n",
        "# These are the names of the layers, so can have them as part of our plot\n",
        "layer_names = [layer.name for layer in model.layers[1:]]\n",
        "\n",
        "# Now let's display our representations\n",
        "for layer_name, feature_map in zip(layer_names, successive_feature_maps):\n",
        "  if len(feature_map.shape) == 4:\n",
        "    # Just do this for the conv / maxpool layers, not the fully-connected layers\n",
        "    n_features = feature_map.shape[-1]  # number of features in feature map\n",
        "    n_features = min(n_features,5) # limit to 5 features for easier viewing\n",
        "    # The feature map has shape (1, size, size, n_features)\n",
        "    size = feature_map.shape[1]\n",
        "    # We will tile our images in this matrix\n",
        "    display_grid = np.zeros((size, size * n_features))\n",
        "    for i in range(n_features):\n",
        "      # Postprocess the feature to make it visually palatable\n",
        "      x = feature_map[0, :, :, i]\n",
        "      x -= x.mean()\n",
        "      x /= x.std()\n",
        "      x *= 64\n",
        "      x += 128\n",
        "      x = np.clip(x, 0, 255).astype('uint8')\n",
        "      # We'll tile each filter into this big horizontal grid\n",
        "      display_grid[:, i * size : (i + 1) * size] = x\n",
        "    # Display the grid\n",
        "    scale = 20. / n_features\n",
        "    plt.figure(figsize=(scale * n_features, scale))\n",
        "    #plt.title(layer_name)\n",
        "    plt.grid(False)\n",
        "    plt.imshow(display_grid, aspect='auto', cmap='viridis')"
      ]
    },
    {
      "cell_type": "markdown",
      "metadata": {
        "id": "j4IBgYCYooGD"
      },
      "source": [
        "## Clean Up\n",
        "\n",
        "Before running the next exercise, run the following cell to terminate the kernel and free memory resources:"
      ]
    },
    {
      "cell_type": "code",
      "execution_count": null,
      "metadata": {
        "id": "651IgjLyo-Jx"
      },
      "outputs": [],
      "source": [
        "import os, signal\n",
        "os.kill(os.getpid(), signal.SIGKILL)"
      ]
    }
  ],
  "metadata": {
    "accelerator": "GPU",
    "colab": {
      "machine_shape": "hm",
      "name": "2-4-6-HorseOrHumanWithAugmentation",
      "provenance": [],
      "include_colab_link": true
    },
    "kernelspec": {
      "display_name": "Python 3",
      "language": "python",
      "name": "python3"
    },
    "language_info": {
      "codemirror_mode": {
        "name": "ipython",
        "version": 3
      },
      "file_extension": ".py",
      "mimetype": "text/x-python",
      "name": "python",
      "nbconvert_exporter": "python",
      "pygments_lexer": "ipython3",
      "version": "3.6.9"
    }
  },
  "nbformat": 4,
  "nbformat_minor": 0
}